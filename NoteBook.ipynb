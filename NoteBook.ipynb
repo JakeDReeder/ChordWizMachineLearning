{
 "cells": [
  {
   "cell_type": "code",
   "execution_count": null,
   "metadata": {},
   "outputs": [
    {
     "name": "stdout",
     "output_type": "stream",
     "text": [
      "The first 10 values of raw audio data :\n",
      "[-0.00067139 -0.00085449 -0.00048828 -0.00085449 -0.00048828 -0.00085449\n",
      " -0.00067139 -0.00067139 -0.00048828 -0.00085449]\n",
      "The Dimensions of the Audio : \n",
      "(352800,)\n",
      "Sample Rate : 44100\n",
      "(128, 690)\n",
      "<class 'numpy.ndarray'>\n"
     ]
    },
    {
     "ename": "NameError",
     "evalue": "name 'sr' is not defined",
     "output_type": "error",
     "traceback": [
      "\u001b[1;31m---------------------------------------------------------------------------\u001b[0m",
      "\u001b[1;31mNameError\u001b[0m                                 Traceback (most recent call last)",
      "Cell \u001b[1;32mIn[3], line 26\u001b[0m\n\u001b[0;32m     24\u001b[0m \u001b[38;5;66;03m# Plot the spectrogram using librosa's display module\u001b[39;00m\n\u001b[0;32m     25\u001b[0m plt\u001b[38;5;241m.\u001b[39mfigure(figsize\u001b[38;5;241m=\u001b[39m(\u001b[38;5;241m10\u001b[39m, \u001b[38;5;241m4\u001b[39m))\n\u001b[1;32m---> 26\u001b[0m librosa\u001b[38;5;241m.\u001b[39mdisplay\u001b[38;5;241m.\u001b[39mspecshow(spectrogram_db, x_axis\u001b[38;5;241m=\u001b[39m\u001b[38;5;124m'\u001b[39m\u001b[38;5;124mtime\u001b[39m\u001b[38;5;124m'\u001b[39m, y_axis\u001b[38;5;241m=\u001b[39m\u001b[38;5;124m'\u001b[39m\u001b[38;5;124mmel\u001b[39m\u001b[38;5;124m'\u001b[39m, sr\u001b[38;5;241m=\u001b[39m\u001b[43msr\u001b[49m)\n\u001b[0;32m     27\u001b[0m plt\u001b[38;5;241m.\u001b[39mcolorbar(\u001b[38;5;28mformat\u001b[39m\u001b[38;5;241m=\u001b[39m\u001b[38;5;124m'\u001b[39m\u001b[38;5;132;01m%+2.0f\u001b[39;00m\u001b[38;5;124m dB\u001b[39m\u001b[38;5;124m'\u001b[39m)\n\u001b[0;32m     28\u001b[0m plt\u001b[38;5;241m.\u001b[39mtitle(\u001b[38;5;124m'\u001b[39m\u001b[38;5;124mMel-Spectrogram\u001b[39m\u001b[38;5;124m'\u001b[39m)\n",
      "\u001b[1;31mNameError\u001b[0m: name 'sr' is not defined"
     ]
    },
    {
     "data": {
      "text/plain": [
       "<Figure size 1000x400 with 0 Axes>"
      ]
     },
     "metadata": {},
     "output_type": "display_data"
    }
   ],
   "source": [
    "import numpy as np\n",
    "import matplotlib.pylab as plt\n",
    "import librosa\n",
    "\n",
    "audio_file_path = './data/major/A_Major_inversion_13.wav'\n",
    "\n",
    "raw_data, sample_rate = librosa.load(audio_file_path, sr=None)  # sr=None keeps the original sample rate\n",
    "\n",
    "print(\"The first 10 values of raw audio data :\")\n",
    "print(raw_data[:10])\n",
    "\n",
    "print(\"The Dimensions of the Audio : \")\n",
    "print(raw_data.shape)\n",
    "\n",
    "print(\"Sample Rate : \" + str(sample_rate))\n",
    "\n",
    "# convert the data into spectrogram and then convert to decibels dB\n",
    "spectrogram = librosa.feature.melspectrogram(y=raw_data, sr=sample_rate, n_mels=128, fmax=8000)\n",
    "spectrogram_db = librosa.power_to_db(spectrogram, ref=np.max)\n",
    "\n",
    "print(spectrogram_db.shape)\n",
    "print(type(spectrogram_db))\n",
    "\n",
    "# Plot the spectrogram using librosa's display module\n",
    "plt.figure(figsize=(10, 4))\n",
    "librosa.display.specshow(spectrogram_db, x_axis='time', y_axis='mel', sr=sample_rate)\n",
    "plt.colorbar(format='%+2.0f dB')\n",
    "plt.title('Mel-Spectrogram')\n",
    "plt.show()\n",
    "\n"
   ]
  }
 ],
 "metadata": {
  "kernelspec": {
   "display_name": "Python 3",
   "language": "python",
   "name": "python3"
  },
  "language_info": {
   "codemirror_mode": {
    "name": "ipython",
    "version": 3
   },
   "file_extension": ".py",
   "mimetype": "text/x-python",
   "name": "python",
   "nbconvert_exporter": "python",
   "pygments_lexer": "ipython3",
   "version": "3.12.2"
  }
 },
 "nbformat": 4,
 "nbformat_minor": 2
}
